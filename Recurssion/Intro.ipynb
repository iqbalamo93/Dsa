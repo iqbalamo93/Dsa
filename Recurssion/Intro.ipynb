{
 "cells": [
  {
   "cell_type": "code",
   "execution_count": 90,
   "id": "040d6d11",
   "metadata": {},
   "outputs": [],
   "source": [
    "def func(n):\n",
    "    if n==0:\n",
    "        print(n)\n",
    "        return\n",
    "    print(n)\n",
    "    return func(n-1)"
   ]
  },
  {
   "cell_type": "code",
   "execution_count": 91,
   "id": "8e464219",
   "metadata": {},
   "outputs": [
    {
     "name": "stdout",
     "output_type": "stream",
     "text": [
      "3\n",
      "2\n",
      "1\n",
      "0\n"
     ]
    }
   ],
   "source": [
    "func(3)"
   ]
  },
  {
   "cell_type": "code",
   "execution_count": 92,
   "id": "4f107518",
   "metadata": {},
   "outputs": [
    {
     "name": "stdout",
     "output_type": "stream",
     "text": [
      "3\n",
      "2\n",
      "1\n",
      "0\n"
     ]
    }
   ],
   "source": [
    "ret = func(3)"
   ]
  },
  {
   "cell_type": "code",
   "execution_count": 94,
   "id": "fea458d7",
   "metadata": {},
   "outputs": [
    {
     "name": "stdout",
     "output_type": "stream",
     "text": [
      "None\n"
     ]
    }
   ],
   "source": [
    "print(ret)"
   ]
  },
  {
   "cell_type": "code",
   "execution_count": 9,
   "id": "1d47d7dc",
   "metadata": {},
   "outputs": [],
   "source": [
    "def func(n):\n",
    "    print(n)\n",
    "    if n==0:\n",
    "        return\n",
    "    return func(n-1)"
   ]
  },
  {
   "cell_type": "code",
   "execution_count": 10,
   "id": "61f8e74c",
   "metadata": {},
   "outputs": [
    {
     "name": "stdout",
     "output_type": "stream",
     "text": [
      "3\n",
      "2\n",
      "1\n",
      "0\n"
     ]
    }
   ],
   "source": [
    "func(3)"
   ]
  },
  {
   "cell_type": "code",
   "execution_count": 19,
   "id": "0e5488ef",
   "metadata": {},
   "outputs": [],
   "source": [
    "def func(n):\n",
    "    print(n)\n",
    "    if n==0:\n",
    "        return\n",
    "    func(n-1)"
   ]
  },
  {
   "cell_type": "code",
   "execution_count": 20,
   "id": "31e2607a",
   "metadata": {},
   "outputs": [
    {
     "name": "stdout",
     "output_type": "stream",
     "text": [
      "5\n",
      "4\n",
      "3\n",
      "2\n",
      "1\n",
      "0\n"
     ]
    }
   ],
   "source": [
    "func(5)"
   ]
  },
  {
   "cell_type": "code",
   "execution_count": 21,
   "id": "3369a9e9",
   "metadata": {},
   "outputs": [
    {
     "name": "stdout",
     "output_type": "stream",
     "text": [
      "5\n",
      "4\n",
      "3\n",
      "2\n",
      "1\n",
      "0\n"
     ]
    }
   ],
   "source": [
    "num = func(5)"
   ]
  },
  {
   "cell_type": "code",
   "execution_count": 23,
   "id": "1644717e",
   "metadata": {},
   "outputs": [
    {
     "name": "stdout",
     "output_type": "stream",
     "text": [
      "None\n"
     ]
    }
   ],
   "source": [
    "print(num)"
   ]
  },
  {
   "cell_type": "code",
   "execution_count": 15,
   "id": "b53340d8",
   "metadata": {},
   "outputs": [],
   "source": [
    "from dis import dis"
   ]
  },
  {
   "cell_type": "code",
   "execution_count": 17,
   "id": "0b408604",
   "metadata": {},
   "outputs": [
    {
     "name": "stdout",
     "output_type": "stream",
     "text": [
      "3\n",
      "2\n",
      "1\n",
      "0\n",
      "  1           0 LOAD_NAME                0 (dis)\n",
      "              2 LOAD_NAME                1 (func)\n",
      "    -->       4 CALL_FUNCTION            0\n",
      "              6 CALL_FUNCTION            1\n",
      "              8 PRINT_EXPR\n",
      "             10 LOAD_CONST               0 (None)\n",
      "             12 RETURN_VALUE\n"
     ]
    }
   ],
   "source": [
    "dis(func(3))"
   ]
  },
  {
   "cell_type": "code",
   "execution_count": 28,
   "id": "b8b663ea",
   "metadata": {},
   "outputs": [],
   "source": [
    "def count(n):\n",
    "    print(n)#position matters\n",
    "    if n==5:\n",
    "        return\n",
    "    count(n+1)"
   ]
  },
  {
   "cell_type": "code",
   "execution_count": 29,
   "id": "de9aae48",
   "metadata": {},
   "outputs": [
    {
     "name": "stdout",
     "output_type": "stream",
     "text": [
      "1\n",
      "2\n",
      "3\n",
      "4\n",
      "5\n"
     ]
    }
   ],
   "source": [
    "count(1)"
   ]
  },
  {
   "cell_type": "code",
   "execution_count": 7,
   "id": "ce50d237",
   "metadata": {},
   "outputs": [],
   "source": [
    "def count(start=0,target=15):\n",
    "    print(start)#position matters\n",
    "    if start==target:\n",
    "        return\n",
    "    count(start+1,target)"
   ]
  },
  {
   "cell_type": "code",
   "execution_count": 8,
   "id": "a81f7fdf",
   "metadata": {},
   "outputs": [
    {
     "name": "stdout",
     "output_type": "stream",
     "text": [
      "0\n",
      "1\n",
      "2\n",
      "3\n",
      "4\n",
      "5\n",
      "6\n",
      "7\n",
      "8\n",
      "9\n",
      "10\n",
      "11\n",
      "12\n",
      "13\n",
      "14\n",
      "15\n"
     ]
    }
   ],
   "source": [
    "count()"
   ]
  },
  {
   "cell_type": "code",
   "execution_count": 10,
   "id": "a3839ea7",
   "metadata": {},
   "outputs": [
    {
     "name": "stdout",
     "output_type": "stream",
     "text": [
      "8\n",
      "9\n",
      "10\n",
      "11\n",
      "12\n",
      "13\n",
      "14\n",
      "15\n",
      "16\n",
      "17\n",
      "18\n",
      "19\n",
      "20\n",
      "21\n",
      "22\n",
      "23\n",
      "24\n",
      "25\n",
      "26\n",
      "27\n",
      "28\n",
      "29\n",
      "30\n",
      "31\n",
      "32\n",
      "33\n"
     ]
    }
   ],
   "source": [
    "count(start=8,target=33)"
   ]
  },
  {
   "cell_type": "code",
   "execution_count": 1,
   "id": "ed65cc72",
   "metadata": {},
   "outputs": [],
   "source": [
    "def summation(n):\n",
    "    if n==1:\n",
    "        return n\n",
    "    return n+summation(n-1)\n",
    "    "
   ]
  },
  {
   "cell_type": "code",
   "execution_count": 2,
   "id": "bd108721",
   "metadata": {},
   "outputs": [
    {
     "data": {
      "text/plain": [
       "6"
      ]
     },
     "execution_count": 2,
     "metadata": {},
     "output_type": "execute_result"
    }
   ],
   "source": [
    "summation(3)"
   ]
  },
  {
   "cell_type": "code",
   "execution_count": 26,
   "id": "788fc17c",
   "metadata": {},
   "outputs": [],
   "source": [
    "##This is also called as TCO..tail call optimisation\n",
    "def summation(n,total=0):\n",
    "    if n==0:\n",
    "        return total\n",
    "    return summation(n-1,n+total)"
   ]
  },
  {
   "cell_type": "code",
   "execution_count": 27,
   "id": "977299fa",
   "metadata": {},
   "outputs": [
    {
     "data": {
      "text/plain": [
       "15"
      ]
     },
     "execution_count": 27,
     "metadata": {},
     "output_type": "execute_result"
    }
   ],
   "source": [
    "summation(5)"
   ]
  },
  {
   "cell_type": "code",
   "execution_count": 4,
   "id": "0d6782aa",
   "metadata": {},
   "outputs": [],
   "source": [
    "def fact(n):\n",
    "    if n==1:\n",
    "        return 1\n",
    "    return n*fact(n-1)"
   ]
  },
  {
   "cell_type": "code",
   "execution_count": 5,
   "id": "ee92e2fa",
   "metadata": {},
   "outputs": [
    {
     "data": {
      "text/plain": [
       "120"
      ]
     },
     "execution_count": 5,
     "metadata": {},
     "output_type": "execute_result"
    }
   ],
   "source": [
    "fact(5)"
   ]
  },
  {
   "cell_type": "code",
   "execution_count": 6,
   "id": "0d344949",
   "metadata": {},
   "outputs": [],
   "source": [
    "def fact_tco(n,prod=1):\n",
    "    if n==1:\n",
    "        return prod\n",
    "    return fact_tco(n-1,n*prod)"
   ]
  },
  {
   "cell_type": "code",
   "execution_count": 9,
   "id": "0214ac68",
   "metadata": {},
   "outputs": [
    {
     "data": {
      "text/plain": [
       "39916800"
      ]
     },
     "execution_count": 9,
     "metadata": {},
     "output_type": "execute_result"
    }
   ],
   "source": [
    "fact_tco(11)"
   ]
  },
  {
   "cell_type": "code",
   "execution_count": 8,
   "id": "6eeb2d03",
   "metadata": {},
   "outputs": [
    {
     "data": {
      "text/plain": [
       "39916800"
      ]
     },
     "execution_count": 8,
     "metadata": {},
     "output_type": "execute_result"
    }
   ],
   "source": [
    "fact(11)"
   ]
  },
  {
   "cell_type": "markdown",
   "id": "a123da2c",
   "metadata": {},
   "source": [
    "### Fibonacci"
   ]
  },
  {
   "cell_type": "code",
   "execution_count": 8,
   "id": "f22a2848",
   "metadata": {},
   "outputs": [],
   "source": [
    "def fib(n):\n",
    "    if n==1:\n",
    "        return 0\n",
    "    if n==2:\n",
    "        return 1\n",
    "    return fib(n-1)+fib(n-2)"
   ]
  },
  {
   "cell_type": "code",
   "execution_count": 11,
   "id": "5d9f43c0",
   "metadata": {},
   "outputs": [
    {
     "data": {
      "text/plain": [
       "1"
      ]
     },
     "execution_count": 11,
     "metadata": {},
     "output_type": "execute_result"
    }
   ],
   "source": [
    "fib(3)"
   ]
  },
  {
   "cell_type": "code",
   "execution_count": 10,
   "id": "607108d2",
   "metadata": {},
   "outputs": [],
   "source": [
    "def fib(n, a = 0, b = 1):\n",
    "    if n == 1:\n",
    "        return a\n",
    "    if n == 2:\n",
    "        return b\n",
    "    return fib(n - 1, b, a + b);\n",
    " "
   ]
  },
  {
   "cell_type": "markdown",
   "id": "855385df",
   "metadata": {},
   "source": [
    "#### Fibonacci till N"
   ]
  },
  {
   "cell_type": "code",
   "execution_count": 11,
   "id": "4b847d5e",
   "metadata": {},
   "outputs": [
    {
     "name": "stdout",
     "output_type": "stream",
     "text": [
      "0\n",
      "1\n",
      "1\n",
      "2\n",
      "3\n",
      "5\n",
      "8\n",
      "13\n",
      "21\n"
     ]
    }
   ],
   "source": [
    "#using fib\n",
    "for i in range(1,10):\n",
    "    print(fib(i))"
   ]
  },
  {
   "cell_type": "code",
   "execution_count": 47,
   "id": "72292be3",
   "metadata": {},
   "outputs": [],
   "source": [
    "def fib(n,a=0,b=1):\n",
    "    if a==0 and b==1:\n",
    "        print(a)\n",
    "        print(b)\n",
    "    if n==1:\n",
    "        return\n",
    "    if n == 2:\n",
    "        return \n",
    "    c=a+b\n",
    "    print(c)\n",
    "    fib(n-1,b,c)"
   ]
  },
  {
   "cell_type": "code",
   "execution_count": 49,
   "id": "02a36c9a",
   "metadata": {},
   "outputs": [
    {
     "name": "stdout",
     "output_type": "stream",
     "text": [
      "0\n",
      "1\n",
      "1\n",
      "2\n",
      "3\n",
      "5\n",
      "8\n",
      "13\n",
      "21\n",
      "34\n"
     ]
    }
   ],
   "source": [
    "fib(10)"
   ]
  },
  {
   "cell_type": "markdown",
   "id": "1b51fe5a",
   "metadata": {},
   "source": [
    "__"
   ]
  },
  {
   "cell_type": "markdown",
   "id": "2f7f9f53",
   "metadata": {},
   "source": [
    "_X**n_"
   ]
  },
  {
   "cell_type": "code",
   "execution_count": 12,
   "id": "f5e01d0c",
   "metadata": {},
   "outputs": [],
   "source": [
    "def power(x,n):\n",
    "    if n==0:\n",
    "        return 1\n",
    "    return x*power(x,n-1)"
   ]
  },
  {
   "cell_type": "code",
   "execution_count": 13,
   "id": "0b670c69",
   "metadata": {},
   "outputs": [
    {
     "data": {
      "text/plain": [
       "27"
      ]
     },
     "execution_count": 13,
     "metadata": {},
     "output_type": "execute_result"
    }
   ],
   "source": [
    "power(3,3)"
   ]
  },
  {
   "cell_type": "code",
   "execution_count": 14,
   "id": "4072e021",
   "metadata": {},
   "outputs": [],
   "source": [
    "def power(x,n,prod=1):\n",
    "    if n==0:\n",
    "        return prod\n",
    "    return power(x,n-1,prod*x)"
   ]
  },
  {
   "cell_type": "code",
   "execution_count": 15,
   "id": "03f8d133",
   "metadata": {},
   "outputs": [
    {
     "data": {
      "text/plain": [
       "18446744073709551616"
      ]
     },
     "execution_count": 15,
     "metadata": {},
     "output_type": "execute_result"
    }
   ],
   "source": [
    "power(2,64)"
   ]
  },
  {
   "cell_type": "code",
   "execution_count": 19,
   "id": "e83814a4",
   "metadata": {},
   "outputs": [
    {
     "data": {
      "text/plain": [
       "5.053902485947822e+16"
      ]
     },
     "execution_count": 19,
     "metadata": {},
     "output_type": "execute_result"
    }
   ],
   "source": [
    "(18446744073709551616/365)"
   ]
  },
  {
   "cell_type": "code",
   "execution_count": null,
   "id": "23d7679d",
   "metadata": {},
   "outputs": [],
   "source": []
  }
 ],
 "metadata": {
  "kernelspec": {
   "display_name": "Python 3 (ipykernel)",
   "language": "python",
   "name": "python3"
  },
  "language_info": {
   "codemirror_mode": {
    "name": "ipython",
    "version": 3
   },
   "file_extension": ".py",
   "mimetype": "text/x-python",
   "name": "python",
   "nbconvert_exporter": "python",
   "pygments_lexer": "ipython3",
   "version": "3.10.4"
  }
 },
 "nbformat": 4,
 "nbformat_minor": 5
}
