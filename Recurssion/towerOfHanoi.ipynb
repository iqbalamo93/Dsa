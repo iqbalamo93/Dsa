{
 "cells": [
  {
   "cell_type": "code",
   "execution_count": 20,
   "id": "ed6b3342",
   "metadata": {},
   "outputs": [],
   "source": [
    "def hanoi(n,source, helper,destination):\n",
    "    \n",
    "    if n==0:\n",
    "        return\n",
    "    else:\n",
    "        hanoi(n-1,source,destination,helper)\n",
    "        print(f'move {source} to {destination}')\n",
    "        hanoi(n-1,helper,source,destination)"
   ]
  },
  {
   "cell_type": "code",
   "execution_count": 23,
   "id": "5157bda3",
   "metadata": {},
   "outputs": [
    {
     "name": "stdout",
     "output_type": "stream",
     "text": [
      "move A to C\n",
      "move A to B\n",
      "move C to B\n",
      "move A to C\n",
      "move B to A\n",
      "move B to C\n",
      "move A to C\n"
     ]
    }
   ],
   "source": [
    "hanoi(3,\"A\",\"B\",\"C\")"
   ]
  },
  {
   "cell_type": "code",
   "execution_count": null,
   "id": "791796f3",
   "metadata": {},
   "outputs": [],
   "source": []
  }
 ],
 "metadata": {
  "kernelspec": {
   "display_name": "Python 3 (ipykernel)",
   "language": "python",
   "name": "python3"
  },
  "language_info": {
   "codemirror_mode": {
    "name": "ipython",
    "version": 3
   },
   "file_extension": ".py",
   "mimetype": "text/x-python",
   "name": "python",
   "nbconvert_exporter": "python",
   "pygments_lexer": "ipython3",
   "version": "3.10.4"
  }
 },
 "nbformat": 4,
 "nbformat_minor": 5
}
