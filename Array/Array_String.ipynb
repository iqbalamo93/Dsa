{
 "cells": [
  {
   "cell_type": "markdown",
   "id": "b2c7362a",
   "metadata": {},
   "source": [
    "### Problem 1: Uncompress"
   ]
  },
  {
   "cell_type": "markdown",
   "id": "ada5d549",
   "metadata": {},
   "source": [
    "Write a function, uncompress, that takes in a string as an argument. The input string will be formatted into multiple groups according to the following pattern:\n",
    "\n",
    "<number><char>\n",
    "\n",
    "for example, '2c' or '3a'.\\\n",
    "uncompress(\"2c3a1t\") # -> 'ccaaat' \\\n",
    "uncompress(\"4s2b\") # -> 'ssssbb' \\\n",
    "uncompress(\"3n12e2z\") # -> 'nnneeeeeeeeeeeezz'"
   ]
  },
  {
   "cell_type": "code",
   "execution_count": 2,
   "id": "08cbc737",
   "metadata": {},
   "outputs": [],
   "source": [
    "def uncompress(string):\n",
    "    i,j= 0,0\n",
    "    result = []\n",
    "    while j <len(string):\n",
    "        if string[j].isnumeric():\n",
    "            j +=1\n",
    "        else:\n",
    "            num = int(string[i:j])\n",
    "            result.append(num*string[j])\n",
    "            j +=1\n",
    "            i=j\n",
    "    return ''.join(result)"
   ]
  },
  {
   "cell_type": "code",
   "execution_count": 3,
   "id": "52a7ddcd",
   "metadata": {},
   "outputs": [
    {
     "data": {
      "text/plain": [
       "'ssssssssssssssss'"
      ]
     },
     "execution_count": 3,
     "metadata": {},
     "output_type": "execute_result"
    }
   ],
   "source": [
    "uncompress('12s4s')"
   ]
  },
  {
   "cell_type": "markdown",
   "id": "000687c1",
   "metadata": {},
   "source": [
    "#### Q2 <br> Write a function, compress, that takes in a string as an argument. The function should return a compressed version of the string where consecutive occurrences of the same characters are compressed into the number of occurrences followed by the character. Single character occurrences should not be changed.\n",
    "\n"
   ]
  },
  {
   "cell_type": "code",
   "execution_count": 16,
   "id": "cf9244b4",
   "metadata": {},
   "outputs": [],
   "source": [
    "def compress(s):\n",
    "    s +='!' \n",
    "    i,j =0,0\n",
    "    output = []\n",
    "    while j<len(s):\n",
    "        if s[i]==s[j]:\n",
    "            j +=1\n",
    "        else:\n",
    "            count = j-i\n",
    "            if count ==1:\n",
    "                output.append(s[i])\n",
    "            else:\n",
    "                output.append(str(count))\n",
    "                output.append(s[i])\n",
    "            i=j\n",
    "    return ''.join(output)\n",
    "    "
   ]
  },
  {
   "cell_type": "code",
   "execution_count": 17,
   "id": "4e57e116",
   "metadata": {},
   "outputs": [
    {
     "data": {
      "text/plain": [
       "'3seded'"
      ]
     },
     "execution_count": 17,
     "metadata": {},
     "output_type": "execute_result"
    }
   ],
   "source": [
    "compress('ssseded')"
   ]
  },
  {
   "cell_type": "code",
   "execution_count": 26,
   "id": "6bc22963",
   "metadata": {},
   "outputs": [],
   "source": [
    "def compress(s):\n",
    "    char_ = s[0]\n",
    "    count =0\n",
    "    output = []\n",
    "    for val in s:\n",
    "        if val ==char_:\n",
    "            count +=1\n",
    "        else:\n",
    "            if count != 1:\n",
    "                output.append(str(count))\n",
    "            output.append(char_)\n",
    "            char_ = val\n",
    "            count=1\n",
    "    return ''.join(output)\n",
    "        "
   ]
  },
  {
   "cell_type": "code",
   "execution_count": 27,
   "id": "5d3c72b5",
   "metadata": {},
   "outputs": [
    {
     "data": {
      "text/plain": [
       "'3sede'"
      ]
     },
     "execution_count": 27,
     "metadata": {},
     "output_type": "execute_result"
    }
   ],
   "source": [
    "compress('ssseded')"
   ]
  },
  {
   "cell_type": "markdown",
   "id": "3f858a04",
   "metadata": {},
   "source": [
    "## Anagrams"
   ]
  },
  {
   "cell_type": "code",
   "execution_count": 43,
   "id": "a0c421da",
   "metadata": {},
   "outputs": [],
   "source": [
    "def comp(string):\n",
    "    dic = {}\n",
    "    for val in string:\n",
    "        if val in dic:\n",
    "            dic[val]+=1\n",
    "        else:\n",
    "            dic[val]=1\n",
    "        \n",
    "    return dic\n",
    "\n",
    "def anagrams(string1,string2):\n",
    "    return comp(string1)==comp(string2)"
   ]
  },
  {
   "cell_type": "code",
   "execution_count": 44,
   "id": "31297dc8",
   "metadata": {},
   "outputs": [
    {
     "data": {
      "text/plain": [
       "False"
      ]
     },
     "execution_count": 44,
     "metadata": {},
     "output_type": "execute_result"
    }
   ],
   "source": [
    "anagrams('paper', 'reapa')"
   ]
  },
  {
   "cell_type": "code",
   "execution_count": 45,
   "id": "3d914f1a",
   "metadata": {},
   "outputs": [],
   "source": [
    "def comp(string):\n",
    "    dic = {}\n",
    "    for val in string:\n",
    "        if val not in dic:\n",
    "            dic[val]=0\n",
    "        dic[val]+=1#this is universal run as it's not in else clause\n",
    "        \n",
    "    return dic"
   ]
  },
  {
   "cell_type": "code",
   "execution_count": 49,
   "id": "0644ccf7",
   "metadata": {},
   "outputs": [],
   "source": [
    "counts = comp('mississippi')"
   ]
  },
  {
   "cell_type": "code",
   "execution_count": 50,
   "id": "f218e1be",
   "metadata": {},
   "outputs": [
    {
     "data": {
      "text/plain": [
       "{'m': 1, 'i': 4, 's': 4, 'p': 2}"
      ]
     },
     "execution_count": 50,
     "metadata": {},
     "output_type": "execute_result"
    }
   ],
   "source": [
    "counts"
   ]
  },
  {
   "cell_type": "code",
   "execution_count": 51,
   "id": "54284028",
   "metadata": {},
   "outputs": [
    {
     "ename": "KeyError",
     "evalue": "None",
     "output_type": "error",
     "traceback": [
      "\u001b[1;31m---------------------------------------------------------------------------\u001b[0m",
      "\u001b[1;31mKeyError\u001b[0m                                  Traceback (most recent call last)",
      "Input \u001b[1;32mIn [51]\u001b[0m, in \u001b[0;36m<cell line: 1>\u001b[1;34m()\u001b[0m\n\u001b[1;32m----> 1\u001b[0m \u001b[43mcounts\u001b[49m\u001b[43m[\u001b[49m\u001b[38;5;28;43;01mNone\u001b[39;49;00m\u001b[43m]\u001b[49m\n",
      "\u001b[1;31mKeyError\u001b[0m: None"
     ]
    }
   ],
   "source": [
    "counts[None]"
   ]
  },
  {
   "cell_type": "code",
   "execution_count": 63,
   "id": "9d827aa7",
   "metadata": {},
   "outputs": [],
   "source": [
    "best=None\n",
    "\n",
    "for char in 'mississippi':\n",
    "    if best is None or counts[char]>counts[best]:\n",
    "        best = char   "
   ]
  },
  {
   "cell_type": "code",
   "execution_count": 59,
   "id": "241575de",
   "metadata": {},
   "outputs": [
    {
     "data": {
      "text/plain": [
       "'i'"
      ]
     },
     "execution_count": 59,
     "metadata": {},
     "output_type": "execute_result"
    }
   ],
   "source": [
    "best"
   ]
  },
  {
   "cell_type": "code",
   "execution_count": null,
   "id": "c4dfb457",
   "metadata": {},
   "outputs": [],
   "source": []
  }
 ],
 "metadata": {
  "interpreter": {
   "hash": "f2ccb58c476f33ba3e3aee7ac07234ef6b8217ef24ad64d2a7d4fed1a57c1cd2"
  },
  "kernelspec": {
   "display_name": "Python 3 (ipykernel)",
   "language": "python",
   "name": "python3"
  },
  "language_info": {
   "codemirror_mode": {
    "name": "ipython",
    "version": 3
   },
   "file_extension": ".py",
   "mimetype": "text/x-python",
   "name": "python",
   "nbconvert_exporter": "python",
   "pygments_lexer": "ipython3",
   "version": "3.10.4"
  }
 },
 "nbformat": 4,
 "nbformat_minor": 5
}
