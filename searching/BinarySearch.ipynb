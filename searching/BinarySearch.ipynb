{
 "cells": [
  {
   "cell_type": "code",
   "execution_count": 90,
   "id": "a5350231",
   "metadata": {},
   "outputs": [],
   "source": [
    "arr = [12,1,14,5,64,7,4,3,97,55,8,6,]"
   ]
  },
  {
   "cell_type": "code",
   "execution_count": 91,
   "id": "f79b93c1",
   "metadata": {},
   "outputs": [],
   "source": [
    "arr = sorted(arr)"
   ]
  },
  {
   "cell_type": "code",
   "execution_count": 92,
   "id": "27f1de9d",
   "metadata": {},
   "outputs": [
    {
     "data": {
      "text/plain": [
       "[1, 3, 4, 5, 6, 7, 8, 12, 14, 55, 64, 97]"
      ]
     },
     "execution_count": 92,
     "metadata": {},
     "output_type": "execute_result"
    }
   ],
   "source": [
    "arr"
   ]
  },
  {
   "cell_type": "code",
   "execution_count": 123,
   "id": "6c329b6c",
   "metadata": {},
   "outputs": [],
   "source": [
    "def binarySearch(arr,number):\n",
    "    start = 0\n",
    "    end = len(arr)-1\n",
    "    mid = (start+end)//2\n",
    "    \n",
    "    while start<=end:\n",
    "        mid = (start+end)//2\n",
    "        if arr[mid]==number:\n",
    "            return mid\n",
    "        elif number<arr[mid]:\n",
    "            \n",
    "            end=mid-1\n",
    "        else:# number>arr[mid]:\n",
    "            start = mid+1\n",
    "    return False"
   ]
  },
  {
   "cell_type": "code",
   "execution_count": 124,
   "id": "c02f7fae",
   "metadata": {},
   "outputs": [
    {
     "data": {
      "text/plain": [
       "60"
      ]
     },
     "execution_count": 124,
     "metadata": {},
     "output_type": "execute_result"
    }
   ],
   "source": [
    "binarySearch(arr,97)"
   ]
  },
  {
   "cell_type": "code",
   "execution_count": 125,
   "id": "8ec8295b",
   "metadata": {},
   "outputs": [
    {
     "data": {
      "text/plain": [
       "(60, 4, 0)"
      ]
     },
     "execution_count": 125,
     "metadata": {},
     "output_type": "execute_result"
    }
   ],
   "source": [
    "binarySearch(arr,97),binarySearch(arr,8),binarySearch(arr,1)"
   ]
  },
  {
   "cell_type": "code",
   "execution_count": 126,
   "id": "3836e68d",
   "metadata": {},
   "outputs": [],
   "source": [
    "arr = [1, 2, 4, 5, 8, 10, 13, 15, 17, 20, 23, 24, 25, 26, 30, 31, 32, \n",
    "          36, 37, 38, 41, 42, 43, 44, 45, 47, 50, 52, 54, 55, 56, 57, 58, \n",
    "          59, 61, 62, 64, 66, 67, 69, 70, 73, 75, 76, 77, 78, 79, 80, 82,\n",
    "          83, 84, 85, 86, 87, 90, 91, 92, 94, 95, 96, 97, 98, 99, 100]"
   ]
  },
  {
   "cell_type": "code",
   "execution_count": 127,
   "id": "43fb15a7",
   "metadata": {},
   "outputs": [
    {
     "data": {
      "text/plain": [
       "False"
      ]
     },
     "execution_count": 127,
     "metadata": {},
     "output_type": "execute_result"
    }
   ],
   "source": [
    "binarySearch(arr,3)"
   ]
  },
  {
   "cell_type": "code",
   "execution_count": null,
   "id": "e05771a6",
   "metadata": {},
   "outputs": [],
   "source": []
  }
 ],
 "metadata": {
  "kernelspec": {
   "display_name": "Python 3 (ipykernel)",
   "language": "python",
   "name": "python3"
  },
  "language_info": {
   "codemirror_mode": {
    "name": "ipython",
    "version": 3
   },
   "file_extension": ".py",
   "mimetype": "text/x-python",
   "name": "python",
   "nbconvert_exporter": "python",
   "pygments_lexer": "ipython3",
   "version": "3.10.4"
  }
 },
 "nbformat": 4,
 "nbformat_minor": 5
}
