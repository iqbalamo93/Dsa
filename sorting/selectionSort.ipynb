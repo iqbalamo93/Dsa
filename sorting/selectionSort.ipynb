{
 "cells": [
  {
   "cell_type": "code",
   "execution_count": 66,
   "id": "9e611b9b",
   "metadata": {},
   "outputs": [],
   "source": [
    "arr = [6,12,3,4222,3,4,1,34,-1]"
   ]
  },
  {
   "cell_type": "code",
   "execution_count": 63,
   "id": "3dbe8d90",
   "metadata": {},
   "outputs": [],
   "source": [
    "def swap(values, i, j):\n",
    "    temp = values[i]\n",
    "    values[i] = values[j]\n",
    "    values[j] = temp\n",
    "def select_min_index_in_range(values,range_start=0):\n",
    "    minimum = values[range_start]\n",
    "    minimum_index = range_start\n",
    "    N = len(values)\n",
    "    for idx in range(range_start,N):\n",
    "        if values[idx] < minimum:\n",
    "            minimum=values[idx]\n",
    "            minimum_index=idx\n",
    "    return minimum_index\n",
    "        \n",
    "        "
   ]
  },
  {
   "cell_type": "code",
   "execution_count": 67,
   "id": "a970255e",
   "metadata": {},
   "outputs": [],
   "source": [
    "N = len(arr)\n",
    "for range_start in range(N):\n",
    "    index = select_min_index_in_range(arr, range_start)\n",
    "    swap(arr, range_start, index)\n",
    "    "
   ]
  },
  {
   "cell_type": "code",
   "execution_count": 70,
   "id": "9339194f",
   "metadata": {},
   "outputs": [],
   "source": [
    "def selectionSort(arr):\n",
    "    N = len(arr)\n",
    "    for range_start in range(N):\n",
    "        index = select_min_index_in_range(arr, range_start)\n",
    "        swap(arr, range_start, index)\n",
    "    return arr"
   ]
  },
  {
   "cell_type": "code",
   "execution_count": 72,
   "id": "a1858f0e",
   "metadata": {},
   "outputs": [],
   "source": [
    "import numpy as np"
   ]
  },
  {
   "cell_type": "code",
   "execution_count": 90,
   "id": "6848e924",
   "metadata": {},
   "outputs": [],
   "source": [
    "arr = np.random.randint(-100,2200,44)"
   ]
  },
  {
   "cell_type": "code",
   "execution_count": 91,
   "id": "65d3abee",
   "metadata": {},
   "outputs": [],
   "source": [
    "arr1 = arr"
   ]
  },
  {
   "cell_type": "code",
   "execution_count": 99,
   "id": "e5de73c2",
   "metadata": {},
   "outputs": [
    {
     "data": {
      "text/plain": [
       "array([ -60,   -6,   39,   59,  152,  228,  295,  350,  414,  459,  467,\n",
       "        515,  669,  689,  716,  718,  816,  867,  922,  969,  969, 1003,\n",
       "       1022, 1080, 1257, 1346, 1446, 1464, 1521, 1527, 1541, 1632, 1685,\n",
       "       1725, 1743, 1826, 1842, 1861, 1876, 1917, 1929, 2037, 2069, 2112])"
      ]
     },
     "execution_count": 99,
     "metadata": {},
     "output_type": "execute_result"
    }
   ],
   "source": [
    "selectionSort(arr)"
   ]
  },
  {
   "cell_type": "code",
   "execution_count": null,
   "id": "18d3b5ac",
   "metadata": {},
   "outputs": [],
   "source": []
  }
 ],
 "metadata": {
  "kernelspec": {
   "display_name": "Python 3 (ipykernel)",
   "language": "python",
   "name": "python3"
  },
  "language_info": {
   "codemirror_mode": {
    "name": "ipython",
    "version": 3
   },
   "file_extension": ".py",
   "mimetype": "text/x-python",
   "name": "python",
   "nbconvert_exporter": "python",
   "pygments_lexer": "ipython3",
   "version": "3.10.4"
  }
 },
 "nbformat": 4,
 "nbformat_minor": 5
}
