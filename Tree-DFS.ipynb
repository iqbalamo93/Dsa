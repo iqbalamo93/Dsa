{
 "cells": [
  {
   "cell_type": "code",
   "execution_count": 2,
   "id": "c435b8a9",
   "metadata": {},
   "outputs": [],
   "source": [
    "class Node:\n",
    "    def __init__(self,val):\n",
    "        self.val=val\n",
    "        self.left = None\n",
    "        self.right = None"
   ]
  },
  {
   "cell_type": "code",
   "execution_count": 141,
   "id": "3c6de90c",
   "metadata": {},
   "outputs": [],
   "source": [
    "a = Node('a')\n",
    "b = Node('b')\n",
    "c = Node('c')\n",
    "d = Node('d')\n",
    "e = Node('e')\n",
    "f = Node('f')        \n"
   ]
  },
  {
   "cell_type": "code",
   "execution_count": 142,
   "id": "f57e07cc",
   "metadata": {},
   "outputs": [],
   "source": [
    "a.left = b\n",
    "a.right = c\n",
    "b.left = d\n",
    "b.right = e\n",
    "c.right = f\n",
    "\n",
    "#      a\n",
    "#    /   \\\n",
    "#   b     c\n",
    "#  / \\     \\\n",
    "# d   e     f\n",
    "\n",
    "#depth_first_values(a)\n",
    "#   -> ['a', 'b', 'd', 'e', 'c', 'f']/"
   ]
  },
  {
   "cell_type": "code",
   "execution_count": 143,
   "id": "928cf0f2",
   "metadata": {},
   "outputs": [],
   "source": [
    "def depth_first_values(root):\n",
    "    if root is None:\n",
    "        return []\n",
    "    else:\n",
    "        left_vales = depth_first_values(root.left)\n",
    "        righ_values = depth_first_values(root.right)\n",
    "        return [root.val\n",
    "    \n",
    "    "
   ]
  },
  {
   "cell_type": "code",
   "execution_count": 144,
   "id": "620cb753",
   "metadata": {},
   "outputs": [
    {
     "data": {
      "text/plain": [
       "['a', ['b', ['d', []]]]"
      ]
     },
     "execution_count": 144,
     "metadata": {},
     "output_type": "execute_result"
    }
   ],
   "source": [
    "depth_first_values(a)"
   ]
  },
  {
   "cell_type": "code",
   "execution_count": 145,
   "id": "8bbb16cc",
   "metadata": {},
   "outputs": [],
   "source": [
    "k = ['d', *[]]"
   ]
  },
  {
   "cell_type": "code",
   "execution_count": 149,
   "id": "f050e3e3",
   "metadata": {},
   "outputs": [
    {
     "ename": "TypeError",
     "evalue": "unsupported operand type(s) for +: 'int' and 'list'",
     "output_type": "error",
     "traceback": [
      "\u001b[1;31m---------------------------------------------------------------------------\u001b[0m",
      "\u001b[1;31mTypeError\u001b[0m                                 Traceback (most recent call last)",
      "Input \u001b[1;32mIn [149]\u001b[0m, in \u001b[0;36m<cell line: 1>\u001b[1;34m()\u001b[0m\n\u001b[1;32m----> 1\u001b[0m \u001b[38;5;241;43m2\u001b[39;49m\u001b[38;5;241;43m+\u001b[39;49m\u001b[43m[\u001b[49m\u001b[43m]\u001b[49m\n",
      "\u001b[1;31mTypeError\u001b[0m: unsupported operand type(s) for +: 'int' and 'list'"
     ]
    }
   ],
   "source": [
    "2+[]"
   ]
  },
  {
   "cell_type": "code",
   "execution_count": 138,
   "id": "85b53b21",
   "metadata": {},
   "outputs": [],
   "source": [
    "a =[1,[]]"
   ]
  },
  {
   "cell_type": "code",
   "execution_count": 139,
   "id": "afc072a7",
   "metadata": {},
   "outputs": [
    {
     "ename": "SyntaxError",
     "evalue": "can't use starred expression here (2205420745.py, line 1)",
     "output_type": "error",
     "traceback": [
      "\u001b[1;36m  Input \u001b[1;32mIn [139]\u001b[1;36m\u001b[0m\n\u001b[1;33m    *a\u001b[0m\n\u001b[1;37m    ^\u001b[0m\n\u001b[1;31mSyntaxError\u001b[0m\u001b[1;31m:\u001b[0m can't use starred expression here\n"
     ]
    }
   ],
   "source": [
    "*a"
   ]
  },
  {
   "cell_type": "code",
   "execution_count": 147,
   "id": "03b74b47",
   "metadata": {},
   "outputs": [
    {
     "data": {
      "text/plain": [
       "[44]"
      ]
     },
     "execution_count": 147,
     "metadata": {},
     "output_type": "execute_result"
    }
   ],
   "source": [
    "[]+[44]"
   ]
  },
  {
   "cell_type": "code",
   "execution_count": 7,
   "id": "af0383fb",
   "metadata": {},
   "outputs": [],
   "source": [
    "def depth_first_values(root):\n",
    "    \n",
    "    if not root:\n",
    "        return []\n",
    "    else:\n",
    "        left_values = depth_first_values(root.left)\n",
    "        right_values = depth_first_values(root.right)\n",
    "        return [ root.val, *left_values, *right_values ]\n"
   ]
  },
  {
   "cell_type": "code",
   "execution_count": 8,
   "id": "72953bb3",
   "metadata": {},
   "outputs": [
    {
     "data": {
      "text/plain": [
       "[]"
      ]
     },
     "execution_count": 8,
     "metadata": {},
     "output_type": "execute_result"
    }
   ],
   "source": [
    "depth_first_values([])"
   ]
  },
  {
   "cell_type": "code",
   "execution_count": 9,
   "id": "66a2461c",
   "metadata": {},
   "outputs": [],
   "source": [
    "a = [1,3,4,5,]"
   ]
  },
  {
   "cell_type": "code",
   "execution_count": 11,
   "id": "d832f9a1",
   "metadata": {},
   "outputs": [],
   "source": [
    "b = [3,4,4,4]"
   ]
  },
  {
   "cell_type": "code",
   "execution_count": 12,
   "id": "42c7eb42",
   "metadata": {},
   "outputs": [
    {
     "data": {
      "text/plain": [
       "[1, 3, 4, 5, 3, 4, 4, 4]"
      ]
     },
     "execution_count": 12,
     "metadata": {},
     "output_type": "execute_result"
    }
   ],
   "source": [
    "[*a,*b]"
   ]
  },
  {
   "cell_type": "code",
   "execution_count": null,
   "id": "a35ef1b4",
   "metadata": {},
   "outputs": [],
   "source": []
  },
  {
   "cell_type": "code",
   "execution_count": 163,
   "id": "1735a487",
   "metadata": {},
   "outputs": [],
   "source": [
    "def max_value(nums):\n",
    "    max_num = nums[0]\n",
    "  \n",
    "    for number in nums[1:]:\n",
    "        if max_num<number:\n",
    "            max_num = number\n",
    "\n",
    "    return max_num"
   ]
  },
  {
   "cell_type": "code",
   "execution_count": 170,
   "id": "19105266",
   "metadata": {},
   "outputs": [
    {
     "data": {
      "text/plain": [
       "5"
      ]
     },
     "execution_count": 170,
     "metadata": {},
     "output_type": "execute_result"
    }
   ],
   "source": [
    "max_value([2, 5, 1, 1, 4])"
   ]
  },
  {
   "cell_type": "code",
   "execution_count": 165,
   "id": "45250e50",
   "metadata": {},
   "outputs": [],
   "source": [
    "a =[1,2,34]"
   ]
  },
  {
   "cell_type": "code",
   "execution_count": 166,
   "id": "b6feead1",
   "metadata": {},
   "outputs": [
    {
     "data": {
      "text/plain": [
       "[2, 34]"
      ]
     },
     "execution_count": 166,
     "metadata": {},
     "output_type": "execute_result"
    }
   ],
   "source": [
    "a[1:]"
   ]
  },
  {
   "cell_type": "code",
   "execution_count": null,
   "id": "c973ec9b",
   "metadata": {},
   "outputs": [],
   "source": []
  }
 ],
 "metadata": {
  "kernelspec": {
   "display_name": "Python 3 (ipykernel)",
   "language": "python",
   "name": "python3"
  },
  "language_info": {
   "codemirror_mode": {
    "name": "ipython",
    "version": 3
   },
   "file_extension": ".py",
   "mimetype": "text/x-python",
   "name": "python",
   "nbconvert_exporter": "python",
   "pygments_lexer": "ipython3",
   "version": "3.10.4"
  }
 },
 "nbformat": 4,
 "nbformat_minor": 5
}
