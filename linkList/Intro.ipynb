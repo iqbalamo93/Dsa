{
 "cells": [
  {
   "cell_type": "code",
   "execution_count": 1,
   "id": "66059bbd",
   "metadata": {},
   "outputs": [],
   "source": [
    "class Node:\n",
    "    def __init__(self,data):\n",
    "        self.data = data\n",
    "        self.prev = None\n",
    "        self.next = None"
   ]
  },
  {
   "cell_type": "markdown",
   "id": "6d94762d",
   "metadata": {},
   "source": [
    "To implement list operations in constant time, the LinkedList class will keep track of three attributes:\n",
    "\n",
    "The length of the list\n",
    "The head node\n",
    "The tail node"
   ]
  },
  {
   "cell_type": "code",
   "execution_count": null,
   "id": "b0002275",
   "metadata": {},
   "outputs": [],
   "source": [
    "class LinkedList:\n",
    "    def __init__(self):\n",
    "        self.head =None\n",
    "        self.tail =None\n",
    "        self.length = 0\n",
    "    def apend(self,data):\n",
    "        new_node = Node(data)\n",
    "        \n",
    "        if self.length==0:\n",
    "            self.head = new_node\n",
    "            self.tail = new_node\n",
    "        else:\n",
    "        \n",
    "        "
   ]
  }
 ],
 "metadata": {
  "kernelspec": {
   "display_name": "Python 3 (ipykernel)",
   "language": "python",
   "name": "python3"
  },
  "language_info": {
   "codemirror_mode": {
    "name": "ipython",
    "version": 3
   },
   "file_extension": ".py",
   "mimetype": "text/x-python",
   "name": "python",
   "nbconvert_exporter": "python",
   "pygments_lexer": "ipython3",
   "version": "3.10.4"
  }
 },
 "nbformat": 4,
 "nbformat_minor": 5
}
