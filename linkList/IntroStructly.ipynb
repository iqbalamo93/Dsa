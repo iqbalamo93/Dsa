{
 "cells": [
  {
   "cell_type": "code",
   "execution_count": 48,
   "id": "c444e838",
   "metadata": {},
   "outputs": [],
   "source": [
    "class Node:\n",
    "    def __init__(self,val):\n",
    "        self.val = val\n",
    "        self.next = None"
   ]
  },
  {
   "cell_type": "code",
   "execution_count": 83,
   "id": "ee674a30",
   "metadata": {},
   "outputs": [],
   "source": [
    "a = Node(\"a\")\n",
    "b = Node(\"b\")\n",
    "c = Node(\"c\")\n",
    "d = Node(\"d\")\n",
    "\n",
    "a.next = b\n",
    "b.next = c\n",
    "c.next = d"
   ]
  },
  {
   "cell_type": "code",
   "execution_count": 25,
   "id": "77f449c3",
   "metadata": {},
   "outputs": [],
   "source": [
    "def traverse(node):\n",
    "    current = node\n",
    "    while current:#same as current is not None\n",
    "        print(current.val)\n",
    "        current = current.next"
   ]
  },
  {
   "cell_type": "code",
   "execution_count": 26,
   "id": "7c4add09",
   "metadata": {},
   "outputs": [
    {
     "name": "stdout",
     "output_type": "stream",
     "text": [
      "a\n",
      "b\n",
      "c\n",
      "d\n"
     ]
    }
   ],
   "source": [
    "traverse(a)"
   ]
  },
  {
   "cell_type": "code",
   "execution_count": 28,
   "id": "68c170e0",
   "metadata": {},
   "outputs": [],
   "source": [
    "def recursive_traverse(head):\n",
    "    \n",
    "    if head is None:\n",
    "        return\n",
    "    print(head.val)\n",
    "    recursive_traverse(head.next)\n",
    "    "
   ]
  },
  {
   "cell_type": "code",
   "execution_count": 29,
   "id": "a992430c",
   "metadata": {},
   "outputs": [
    {
     "name": "stdout",
     "output_type": "stream",
     "text": [
      "a\n",
      "b\n",
      "c\n",
      "d\n"
     ]
    }
   ],
   "source": [
    "recursive_traverse(a)"
   ]
  },
  {
   "cell_type": "markdown",
   "id": "5bb675e6",
   "metadata": {},
   "source": [
    "### Q1 linked list values\n",
    "\n",
    "Write a function, linked_list_values, that takes in the head of a linked list as an argument. The function should return a list containing all values of the nodes in the linked list."
   ]
  },
  {
   "cell_type": "code",
   "execution_count": 31,
   "id": "e2b4e006",
   "metadata": {},
   "outputs": [],
   "source": [
    "def linked_list_values(node):\n",
    "    vals = []\n",
    "    current = node\n",
    "    while current:#same as current is not None\n",
    "        vals.append(current.val)\n",
    "        current = current.next\n",
    "    return vals"
   ]
  },
  {
   "cell_type": "code",
   "execution_count": 32,
   "id": "f8292dd1",
   "metadata": {},
   "outputs": [
    {
     "data": {
      "text/plain": [
       "['a', 'b', 'c', 'd']"
      ]
     },
     "execution_count": 32,
     "metadata": {},
     "output_type": "execute_result"
    }
   ],
   "source": [
    "linked_list_values(a)"
   ]
  },
  {
   "cell_type": "code",
   "execution_count": 111,
   "id": "602d08cc",
   "metadata": {},
   "outputs": [],
   "source": [
    "def recursive_linked_list_values(head,vals=[]):\n",
    "    if head is None:\n",
    "        return vals\n",
    "    val = head.val\n",
    "    vals.append(val)\n",
    "    return recursive_linked_list_values(head.next,vals)\n",
    "#Lession learnt all possible brach should return something"
   ]
  },
  {
   "cell_type": "code",
   "execution_count": 112,
   "id": "043983d6",
   "metadata": {},
   "outputs": [
    {
     "data": {
      "text/plain": [
       "['a', 'b', 'c', 'd']"
      ]
     },
     "execution_count": 112,
     "metadata": {},
     "output_type": "execute_result"
    }
   ],
   "source": [
    "recursive_linked_list_values(a)"
   ]
  },
  {
   "cell_type": "code",
   "execution_count": 113,
   "id": "b4cfc49c",
   "metadata": {},
   "outputs": [
    {
     "name": "stdout",
     "output_type": "stream",
     "text": [
      "['a', 'b', 'c', 'd']\n"
     ]
    }
   ],
   "source": [
    "print(ret)"
   ]
  },
  {
   "cell_type": "markdown",
   "id": "7a316ca2",
   "metadata": {},
   "source": [
    "### Q2 Sum linked list values"
   ]
  },
  {
   "cell_type": "code",
   "execution_count": 52,
   "id": "818504da",
   "metadata": {},
   "outputs": [],
   "source": [
    "a = Node(2)\n",
    "b = Node(8)\n",
    "c = Node(3)\n",
    "d = Node(-1)\n",
    "e = Node(7)\n",
    "\n",
    "a.next = b\n",
    "b.next = c\n",
    "c.next = d\n",
    "d.next = e\n"
   ]
  },
  {
   "cell_type": "code",
   "execution_count": 55,
   "id": "a1c2db7f",
   "metadata": {},
   "outputs": [],
   "source": [
    "##TCO\n",
    "def recursive_sum(head,su=0):\n",
    "    if head is None:\n",
    "        return su\n",
    "    su +=head.val\n",
    "    return recursive_sum(head.next,su)"
   ]
  },
  {
   "cell_type": "code",
   "execution_count": 56,
   "id": "1b64701d",
   "metadata": {},
   "outputs": [
    {
     "data": {
      "text/plain": [
       "19"
      ]
     },
     "execution_count": 56,
     "metadata": {},
     "output_type": "execute_result"
    }
   ],
   "source": [
    "recursive_sum(a)"
   ]
  },
  {
   "cell_type": "code",
   "execution_count": 62,
   "id": "77b38368",
   "metadata": {},
   "outputs": [],
   "source": [
    "def sum_list(head):\n",
    "    if head is None:\n",
    "        return 0\n",
    "    return head.val + sum_list(head.next)"
   ]
  },
  {
   "cell_type": "code",
   "execution_count": 63,
   "id": "b56b704d",
   "metadata": {},
   "outputs": [
    {
     "data": {
      "text/plain": [
       "19"
      ]
     },
     "execution_count": 63,
     "metadata": {},
     "output_type": "execute_result"
    }
   ],
   "source": [
    "sum_list(a)"
   ]
  },
  {
   "cell_type": "code",
   "execution_count": 64,
   "id": "9f1124a1",
   "metadata": {},
   "outputs": [],
   "source": [
    "def sum_list(head):\n",
    "    total_sum = 0\n",
    "    current = head\n",
    "    while current is not None:\n",
    "        total_sum += current.val\n",
    "        current = current.next\n",
    "    return total_sum"
   ]
  },
  {
   "cell_type": "code",
   "execution_count": 65,
   "id": "8ddfe3c0",
   "metadata": {},
   "outputs": [
    {
     "data": {
      "text/plain": [
       "19"
      ]
     },
     "execution_count": 65,
     "metadata": {},
     "output_type": "execute_result"
    }
   ],
   "source": [
    "sum_list(a)"
   ]
  },
  {
   "cell_type": "code",
   "execution_count": null,
   "id": "1c58b4e4",
   "metadata": {},
   "outputs": [],
   "source": []
  }
 ],
 "metadata": {
  "kernelspec": {
   "display_name": "Python 3 (ipykernel)",
   "language": "python",
   "name": "python3"
  },
  "language_info": {
   "codemirror_mode": {
    "name": "ipython",
    "version": 3
   },
   "file_extension": ".py",
   "mimetype": "text/x-python",
   "name": "python",
   "nbconvert_exporter": "python",
   "pygments_lexer": "ipython3",
   "version": "3.10.4"
  }
 },
 "nbformat": 4,
 "nbformat_minor": 5
}
